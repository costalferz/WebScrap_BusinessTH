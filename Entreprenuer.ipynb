{
 "cells": [
  {
   "cell_type": "code",
   "execution_count": 56,
   "metadata": {
    "colab": {
     "base_uri": "https://localhost:8080/",
     "height": 350
    },
    "executionInfo": {
     "elapsed": 1360,
     "status": "error",
     "timestamp": 1627927684565,
     "user": {
      "displayName": "KANATIP PATTARAPORNPONG",
      "photoUrl": "",
      "userId": "09675542723956819321"
     },
     "user_tz": -420
    },
    "id": "H7Lp7d0NCASf",
    "outputId": "467c0f11-2323-4c19-84f4-4b1feed8bc24"
   },
   "outputs": [
    {
     "data": {
      "text/html": [
       "<div>\n",
       "<style scoped>\n",
       "    .dataframe tbody tr th:only-of-type {\n",
       "        vertical-align: middle;\n",
       "    }\n",
       "\n",
       "    .dataframe tbody tr th {\n",
       "        vertical-align: top;\n",
       "    }\n",
       "\n",
       "    .dataframe thead th {\n",
       "        text-align: right;\n",
       "    }\n",
       "</style>\n",
       "<table border=\"1\" class=\"dataframe\">\n",
       "  <thead>\n",
       "    <tr style=\"text-align: right;\">\n",
       "      <th></th>\n",
       "      <th>รหัส</th>\n",
       "      <th>ประเภทธุรกิจ</th>\n",
       "      <th>จำนวน</th>\n",
       "    </tr>\n",
       "  </thead>\n",
       "  <tbody>\n",
       "    <tr>\n",
       "      <th>0</th>\n",
       "      <td>01111</td>\n",
       "      <td>การปลูกข้าวโพดที่ใช้เมล็ดแก่</td>\n",
       "      <td>14</td>\n",
       "    </tr>\n",
       "    <tr>\n",
       "      <th>1</th>\n",
       "      <td>01112</td>\n",
       "      <td>การปลูกธัญพืช (ยกเว้นข้าวและข้าวโพด)</td>\n",
       "      <td>37</td>\n",
       "    </tr>\n",
       "    <tr>\n",
       "      <th>2</th>\n",
       "      <td>01113</td>\n",
       "      <td>การปลูกพืชตระกูลถั่ว</td>\n",
       "      <td>10</td>\n",
       "    </tr>\n",
       "    <tr>\n",
       "      <th>3</th>\n",
       "      <td>01114</td>\n",
       "      <td>การปลูกถั่วเหลือง</td>\n",
       "      <td>1</td>\n",
       "    </tr>\n",
       "    <tr>\n",
       "      <th>4</th>\n",
       "      <td>01115</td>\n",
       "      <td>การปลูกพืชน้ำมัน (ยกเว้นถั่วเหลือง)</td>\n",
       "      <td>6</td>\n",
       "    </tr>\n",
       "    <tr>\n",
       "      <th>...</th>\n",
       "      <td>...</td>\n",
       "      <td>...</td>\n",
       "      <td>...</td>\n",
       "    </tr>\n",
       "    <tr>\n",
       "      <th>1227</th>\n",
       "      <td>97000</td>\n",
       "      <td>กิจกรรมการจ้างงานในครัวเรือนในฐานะที่เป็นนายจ้...</td>\n",
       "      <td>12</td>\n",
       "    </tr>\n",
       "    <tr>\n",
       "      <th>1228</th>\n",
       "      <td>98100</td>\n",
       "      <td>กิจกรรมการผลิตสินค้าเพื่อใช้ในครัวเรือนซึ่งไม่...</td>\n",
       "      <td>3</td>\n",
       "    </tr>\n",
       "    <tr>\n",
       "      <th>1229</th>\n",
       "      <td>98200</td>\n",
       "      <td>กิจกรรมการบริการในครัวเรือนซึ่งไม่สามารถจำแนกก...</td>\n",
       "      <td>1</td>\n",
       "    </tr>\n",
       "    <tr>\n",
       "      <th>1230</th>\n",
       "      <td>99000</td>\n",
       "      <td>กิจกรรมขององค์การระหว่างประเทศและภาคีสมาชิก</td>\n",
       "      <td>1</td>\n",
       "    </tr>\n",
       "    <tr>\n",
       "      <th>1231</th>\n",
       "      <td>99009</td>\n",
       "      <td>กิจกรรมขององค์การระหว่างประเทศและภาคีสมาชิกอื่...</td>\n",
       "      <td>1</td>\n",
       "    </tr>\n",
       "  </tbody>\n",
       "</table>\n",
       "<p>1232 rows × 3 columns</p>\n",
       "</div>"
      ],
      "text/plain": [
       "       รหัส                                       ประเภทธุรกิจ จำนวน\n",
       "0     01111                       การปลูกข้าวโพดที่ใช้เมล็ดแก่    14\n",
       "1     01112               การปลูกธัญพืช (ยกเว้นข้าวและข้าวโพด)    37\n",
       "2     01113                               การปลูกพืชตระกูลถั่ว    10\n",
       "3     01114                                  การปลูกถั่วเหลือง     1\n",
       "4     01115                การปลูกพืชน้ำมัน (ยกเว้นถั่วเหลือง)     6\n",
       "...     ...                                                ...   ...\n",
       "1227  97000  กิจกรรมการจ้างงานในครัวเรือนในฐานะที่เป็นนายจ้...    12\n",
       "1228  98100  กิจกรรมการผลิตสินค้าเพื่อใช้ในครัวเรือนซึ่งไม่...     3\n",
       "1229  98200  กิจกรรมการบริการในครัวเรือนซึ่งไม่สามารถจำแนกก...     1\n",
       "1230  99000        กิจกรรมขององค์การระหว่างประเทศและภาคีสมาชิก     1\n",
       "1231  99009  กิจกรรมขององค์การระหว่างประเทศและภาคีสมาชิกอื่...     1\n",
       "\n",
       "[1232 rows x 3 columns]"
      ]
     },
     "execution_count": 56,
     "metadata": {},
     "output_type": "execute_result"
    }
   ],
   "source": [
    "import pandas as pd\n",
    "import requests\n",
    "from bs4 import BeautifulSoup\n",
    "web_data = requests.get(\"https://www.dataforthai.com/business/objective\")\n",
    "soup = BeautifulSoup(web_data.text,'html.parser')\n",
    "table =  soup.find_all(\"tr\",{\"class\":\"clickable-row\"})\n",
    "columns = ['รหัส', 'ประเภทธุรกิจ', 'จำนวน', 'ประเภทธุรกิจ1']\n",
    "df_loop = []\n",
    "for i in table:\n",
    "    tds = i.find_all('td')\n",
    "    loop = [td.text.replace('\\n', '').strip() for td in tds]\n",
    "    df_loop.append(loop)\n",
    "df1 = pd.DataFrame(df_loop,columns=columns)\n",
    "df1 = df1.drop(['ประเภทธุรกิจ1'], axis=1)"
   ]
  },
  {
   "cell_type": "code",
   "execution_count": null,
   "metadata": {
    "id": "ZTZCyaS7CASi"
   },
   "outputs": [],
   "source": [
    "url = \"https://www.dataforthai.com/business/objective/\"\n",
    "rows = []\n",
    "col = ['index','ชื่อผู้ประกอบการ', 'ทุนจดทะเบียน', 'อำเภอ', 'จังหวัด','รหัส', 'ประเภทธุรกิจ', 'timestamp']\n",
    "j=0\n",
    "for param in df1['รหัส']:\n",
    "    web_data = requests.get(url+param)\n",
    "    soup = BeautifulSoup(web_data.text,'html.parser')\n",
    "    data = soup.find_all(\"tr\",{\"class\":\"clickable-row\"})\n",
    "    for i in data:\n",
    "        tds = i.find_all('td')\n",
    "        row = [td.text.strip() for td in tds[0:5]] + [df1['รหัส'][j]] +[df1['ประเภทธุรกิจ'][j]]   + [datetime.now().strftime(\"%Y-%m-%d-%T\")]\n",
    "        rows.append(row)\n",
    "    j=j+1\n",
    "df2 = pd.DataFrame(rows,columns=col)\n",
    "df3 = df2.drop(['index'],axis =1)\n",
    "df3"
   ]
  },
  {
   "cell_type": "code",
   "execution_count": null,
   "metadata": {
    "id": "8Zl-rct-CASj",
    "outputId": "214fb4c6-3ef7-4649-f0ca-272d4c41d3e2"
   },
   "outputs": [],
   "source": [
    "df3.to_csv('Dataset ชื่อไม่เต็ม.csv', index=False,encoding='utf-8-sig')"
   ]
  },
  {
   "cell_type": "code",
   "execution_count": null,
   "metadata": {
    "id": "aXkvmOPaCASl"
   },
   "outputs": [],
   "source": [
    "df4 = pd.read_csv('Dataset ชื่อไม่เต็ม.csv',encoding='utf-8-sig',dtype={\"รหัส\": object})\n",
    "df4"
   ]
  }
 ],
 "metadata": {
  "colab": {
   "collapsed_sections": [],
   "name": "project.ipynb",
   "provenance": []
  },
  "interpreter": {
   "hash": "adcf408fa1a299b421578eea5618e5ee90effa28602345400310d6adf1b75e21"
  },
  "kernelspec": {
   "display_name": "Python 3 (ipykernel)",
   "language": "python",
   "name": "python3"
  },
  "language_info": {
   "codemirror_mode": {
    "name": "ipython",
    "version": 3
   },
   "file_extension": ".py",
   "mimetype": "text/x-python",
   "name": "python",
   "nbconvert_exporter": "python",
   "pygments_lexer": "ipython3",
   "version": "3.8.5"
  }
 },
 "nbformat": 4,
 "nbformat_minor": 1
}
